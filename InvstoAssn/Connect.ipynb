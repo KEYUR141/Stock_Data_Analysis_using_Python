{
 "cells": [
  {
   "cell_type": "code",
   "execution_count": 3,
   "id": "9cd349d3-1ea2-458d-87cf-0c3dfe7e3a3c",
   "metadata": {},
   "outputs": [],
   "source": [
    "import pyodbc\n",
    "import pandas as pd"
   ]
  },
  {
   "cell_type": "code",
   "execution_count": 4,
   "id": "c256b6c7-451a-4a15-bbba-c7faefa8e88d",
   "metadata": {},
   "outputs": [
    {
     "data": {
      "text/plain": [
       "['SQL Server',\n",
       " 'ODBC Driver 17 for SQL Server',\n",
       " 'SQL Server Native Client RDA 11.0']"
      ]
     },
     "execution_count": 4,
     "metadata": {},
     "output_type": "execute_result"
    }
   ],
   "source": [
    "pyodbc.drivers()"
   ]
  },
  {
   "cell_type": "code",
   "execution_count": 8,
   "id": "b69233dc-6bd5-421e-8f9f-d190ea8e81d5",
   "metadata": {},
   "outputs": [],
   "source": [
    "conn = pyodbc.connect(\n",
    "    Trusted_Connection = \"Yes\",\n",
    "    Driver = '{ODBC Driver 17 for SQL Server}',\n",
    "    Server = \"DESKTOP-D9QH4PH\",\n",
    "    Database = \"HINDALCO\"\n",
    ")\n",
    "cursor = conn.cursor()"
   ]
  },
  {
   "cell_type": "code",
   "execution_count": 10,
   "id": "8880e3c4-caaf-49d7-8610-b6210b60b479",
   "metadata": {},
   "outputs": [],
   "source": [
    "df = pd.read_excel(r'C:\\Users\\DELL\\Downloads\\HINDALCO_1D.xlsx')"
   ]
  },
  {
   "cell_type": "code",
   "execution_count": 11,
   "id": "db619681-5e48-41a3-9a0e-d1254bd5fd9c",
   "metadata": {
    "scrolled": true
   },
   "outputs": [
    {
     "data": {
      "text/html": [
       "<div>\n",
       "<style scoped>\n",
       "    .dataframe tbody tr th:only-of-type {\n",
       "        vertical-align: middle;\n",
       "    }\n",
       "\n",
       "    .dataframe tbody tr th {\n",
       "        vertical-align: top;\n",
       "    }\n",
       "\n",
       "    .dataframe thead th {\n",
       "        text-align: right;\n",
       "    }\n",
       "</style>\n",
       "<table border=\"1\" class=\"dataframe\">\n",
       "  <thead>\n",
       "    <tr style=\"text-align: right;\">\n",
       "      <th></th>\n",
       "      <th>datetime</th>\n",
       "      <th>close</th>\n",
       "      <th>high</th>\n",
       "      <th>low</th>\n",
       "      <th>open</th>\n",
       "      <th>volume</th>\n",
       "      <th>instrument</th>\n",
       "    </tr>\n",
       "  </thead>\n",
       "  <tbody>\n",
       "    <tr>\n",
       "      <th>0</th>\n",
       "      <td>2014-01-24</td>\n",
       "      <td>114.00</td>\n",
       "      <td>115.35</td>\n",
       "      <td>113.00</td>\n",
       "      <td>113.15</td>\n",
       "      <td>5737135</td>\n",
       "      <td>HINDALCO</td>\n",
       "    </tr>\n",
       "    <tr>\n",
       "      <th>1</th>\n",
       "      <td>2014-01-27</td>\n",
       "      <td>111.10</td>\n",
       "      <td>112.70</td>\n",
       "      <td>109.30</td>\n",
       "      <td>112.00</td>\n",
       "      <td>8724577</td>\n",
       "      <td>HINDALCO</td>\n",
       "    </tr>\n",
       "    <tr>\n",
       "      <th>2</th>\n",
       "      <td>2014-01-28</td>\n",
       "      <td>113.80</td>\n",
       "      <td>115.00</td>\n",
       "      <td>109.75</td>\n",
       "      <td>110.00</td>\n",
       "      <td>4513345</td>\n",
       "      <td>HINDALCO</td>\n",
       "    </tr>\n",
       "    <tr>\n",
       "      <th>3</th>\n",
       "      <td>2014-01-29</td>\n",
       "      <td>111.75</td>\n",
       "      <td>114.75</td>\n",
       "      <td>111.15</td>\n",
       "      <td>114.50</td>\n",
       "      <td>4713458</td>\n",
       "      <td>HINDALCO</td>\n",
       "    </tr>\n",
       "    <tr>\n",
       "      <th>4</th>\n",
       "      <td>2014-01-30</td>\n",
       "      <td>108.10</td>\n",
       "      <td>110.70</td>\n",
       "      <td>107.60</td>\n",
       "      <td>110.20</td>\n",
       "      <td>5077231</td>\n",
       "      <td>HINDALCO</td>\n",
       "    </tr>\n",
       "  </tbody>\n",
       "</table>\n",
       "</div>"
      ],
      "text/plain": [
       "    datetime   close    high     low    open   volume instrument\n",
       "0 2014-01-24  114.00  115.35  113.00  113.15  5737135   HINDALCO\n",
       "1 2014-01-27  111.10  112.70  109.30  112.00  8724577   HINDALCO\n",
       "2 2014-01-28  113.80  115.00  109.75  110.00  4513345   HINDALCO\n",
       "3 2014-01-29  111.75  114.75  111.15  114.50  4713458   HINDALCO\n",
       "4 2014-01-30  108.10  110.70  107.60  110.20  5077231   HINDALCO"
      ]
     },
     "execution_count": 11,
     "metadata": {},
     "output_type": "execute_result"
    }
   ],
   "source": [
    "df.head()"
   ]
  },
  {
   "cell_type": "code",
   "execution_count": 13,
   "id": "d2494c07-d76d-49a9-870c-1d852c951ac5",
   "metadata": {},
   "outputs": [
    {
     "data": {
      "text/plain": [
       "Index(['datetime', 'close', 'high', 'low', 'open', 'volume', 'instrument'], dtype='object')"
      ]
     },
     "execution_count": 13,
     "metadata": {},
     "output_type": "execute_result"
    }
   ],
   "source": [
    "df.columns"
   ]
  },
  {
   "cell_type": "code",
   "execution_count": 17,
   "id": "6a72a556-b103-461e-8853-190e4fc2c155",
   "metadata": {},
   "outputs": [
    {
     "data": {
      "text/plain": [
       "<pyodbc.Cursor at 0x263bb1dc0b0>"
      ]
     },
     "execution_count": 17,
     "metadata": {},
     "output_type": "execute_result"
    }
   ],
   "source": [
    "cursor.execute(\"\"\"\n",
    "    CREATE TABLE stock_data (\n",
    "        [datetime] DATETIME,\n",
    "        [close] DECIMAL(10,2),\n",
    "        [high] DECIMAL(10,2),\n",
    "        [low] DECIMAL(10,2),\n",
    "        [open] DECIMAL(10,2),\n",
    "        [volume] INT,\n",
    "        [instrument] VARCHAR(50)\n",
    "    )\n",
    "\"\"\")"
   ]
  },
  {
   "cell_type": "code",
   "execution_count": 22,
   "id": "bc9efeb1-039b-403c-a94c-054b4c7e4d17",
   "metadata": {},
   "outputs": [],
   "source": [
    "for row in df.itertuples(index=False):\n",
    "    cursor.execute(\"\"\"\n",
    "                INSERT INTO HINDALCO.dbo.stock_data (datetime, [close], high, low, [open], volume, instrument)\n",
    "                VALUES(?,?,?,?,?,?,?)\"\"\",\n",
    "                (row.datetime,\n",
    "                row.close,\n",
    "                row.high,\n",
    "                row.low,\n",
    "                row.open,\n",
    "                row.volume,\n",
    "                row.instrument,\n",
    "                )\n",
    "            )\n",
    "conn.commit()\n"
   ]
  },
  {
   "cell_type": "code",
   "execution_count": 23,
   "id": "5794c4f4-d28a-4c0b-a15f-b3f1d66506ba",
   "metadata": {},
   "outputs": [],
   "source": [
    "conn.close()"
   ]
  },
  {
   "cell_type": "code",
   "execution_count": null,
   "id": "dca3b45f-715c-460b-9dff-8d514a67cece",
   "metadata": {},
   "outputs": [],
   "source": []
  }
 ],
 "metadata": {
  "kernelspec": {
   "display_name": "Python 3 (ipykernel)",
   "language": "python",
   "name": "python3"
  },
  "language_info": {
   "codemirror_mode": {
    "name": "ipython",
    "version": 3
   },
   "file_extension": ".py",
   "mimetype": "text/x-python",
   "name": "python",
   "nbconvert_exporter": "python",
   "pygments_lexer": "ipython3",
   "version": "3.12.4"
  }
 },
 "nbformat": 4,
 "nbformat_minor": 5
}
